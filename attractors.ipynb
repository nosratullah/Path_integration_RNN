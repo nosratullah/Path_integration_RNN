{
 "cells": [
  {
   "cell_type": "code",
   "execution_count": 2,
   "metadata": {},
   "outputs": [],
   "source": [
    "import numpy as np\n",
    "import matplotlib.pyplot as plt"
   ]
  },
  {
   "cell_type": "markdown",
   "metadata": {},
   "source": [
    "## Building the network"
   ]
  },
  {
   "cell_type": "code",
   "execution_count": 3,
   "metadata": {},
   "outputs": [],
   "source": [
    "def dhdt(h, I, tau, R):\n",
    "    return (R * I - h) / tau\n",
    "def activation(h, r0, alpha, beta):\n",
    "    return r0 * (1/(1 + np.exp(-2 * alpha * (h - beta))))"
   ]
  },
  {
   "cell_type": "code",
   "execution_count": null,
   "metadata": {},
   "outputs": [],
   "source": [
    "T = 1 # s\n",
    "dt = 1e-2 # s which is 1 ms\n",
    "tau = 1e-2 # s\n",
    "R = 1e6 # Ohm\n",
    "stimulus = np.zeros(int(T/dt))\n",
    "N = 100 # number of neurons\n",
    "h = np.zeros(N) # mV\n",
    "r0 = 1000 # Hz\n",
    "alpha = 2 # mV^-1"
   ]
  }
 ],
 "metadata": {
  "kernelspec": {
   "display_name": "attractors",
   "language": "python",
   "name": "python3"
  },
  "language_info": {
   "codemirror_mode": {
    "name": "ipython",
    "version": 3
   },
   "file_extension": ".py",
   "mimetype": "text/x-python",
   "name": "python",
   "nbconvert_exporter": "python",
   "pygments_lexer": "ipython3",
   "version": "3.12.3"
  }
 },
 "nbformat": 4,
 "nbformat_minor": 2
}
